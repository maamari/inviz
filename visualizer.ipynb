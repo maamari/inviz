{
 "cells": [
  {
   "cell_type": "markdown",
   "metadata": {
    "tags": []
   },
   "source": [
    "# Interactive Visualizer (InVis)\n",
    "This is the notebook where I'm currently developing the visualizer. I'm using Holoviews and Panel to construct the dashboard and implement the interactivity."
   ]
  },
  {
   "cell_type": "code",
   "execution_count": null,
   "metadata": {
    "pycharm": {
     "name": "#%%\n"
    }
   },
   "outputs": [],
   "source": [
    "import holoviews as hv\n",
    "from holoviews import dim, opts, streams\n",
    "from holoviews.selection import link_selections\n",
    "import hvplot.pandas\n",
    "import pandas as pd\n",
    "from itertools import combinations\n",
    "import numpy as np\n",
    "from tqdm import tqdm\n",
    "import re\n",
    "import panel as pn\n",
    "import spatialpandas\n",
    "import os\n",
    "\n",
    "hv.extension('bokeh',width=100)\n",
    "hv.Store.set_current_backend('bokeh')\n",
    "pn.extension('tabulator')\n",
    "pn.extension()"
   ]
  },
  {
   "cell_type": "markdown",
   "metadata": {},
   "source": [
    "## Functions\n",
    "First we must load the data. `load_params` reads in the .paramnames file and returns a list of each parameter name. `load_data` reads in a .txt file and a list of column names, and returns a DataFrame using those column names. `plot_scatter_table` is what constructs the dashboard."
   ]
  },
  {
   "cell_type": "code",
   "execution_count": null,
   "metadata": {
    "pycharm": {
     "name": "#%%\n"
    },
    "tags": []
   },
   "outputs": [],
   "source": [
    "def load_params(filename):\n",
    "    params_list = []\n",
    "    with open(filename, 'r') as f:\n",
    "        for line in f:\n",
    "            line = line.strip()\n",
    "            params = re.split(' \\t ', line)\n",
    "            params_list.append(params)\n",
    "    return [item[0] for item in params_list]\n",
    "\n",
    "\n",
    "def load_data(filename, column_names):\n",
    "    data = np.loadtxt(filename)\n",
    "    df = pd.DataFrame(data[:,2:], columns=column_names)\n",
    "    return df\n",
    "\n",
    "\n",
    "def plot_scatter_table(data, params, plots):\n",
    "    # kwargs:\n",
    "    # data: a pandas DataFrame\n",
    "    # params: list of parameters that correspond to column names in the DataFrame\n",
    "    # plots: the number of plots to display\n",
    "    \n",
    "    # generate a list of all pairs of the parameters\n",
    "    pairs = [list(comb) for comb in combinations(params, 2)]\n",
    "    \n",
    "    # create linked selections\n",
    "    ls = link_selections.instance()\n",
    "    \n",
    "    # make height of the table match the total height of the plots if they're shown in rows of 2\n",
    "    # if (plots % 2) == 1:\n",
    "    #     table_height = (plots//2) + 1\n",
    "    # else:\n",
    "    #     table_height = plots/2\n",
    "    \n",
    "    # match height of table to total height of plots if only 1 plot per row\n",
    "    # table_height = plots\n",
    "    \n",
    "    # table = hv.Table(data[params]).opts(width=800, height=int(300*table_height))\n",
    "    layout = hv.Layout()\n",
    "    \n",
    "    for param_a, param_b in pairs[:plots]:\n",
    "        # vdims = [e for e in params if e not in (param_a, param_b)]\n",
    "        # ^^^ uncomment the above and add \", vdims\" to the argument of hv.Dataset if desired\n",
    "        ds = hv.Dataset(data, [param_a, param_b])\n",
    "        pts = hv.Points(ds).opts(\n",
    "            opts.Points(color='black', size=2))\n",
    "        bivar = hv.Bivariate(data[[param_a,param_b]].values, [param_a,param_b], []).opts(\n",
    "            opts.Bivariate(bandwidth=0.5,\n",
    "                           cut=0,cmap=\"blues\",\n",
    "                           levels=5,\n",
    "                           colorbar=False,\n",
    "                           show_legend=False,\n",
    "                           filled=True,\n",
    "                           toolbar='above',\n",
    "                           width=350,\n",
    "                           alpha=0.75))\n",
    "        layout += (ls(pts)*bivar).opts(width=300, height=300)\n",
    "    \n",
    "    layout = layout.cols(4)\n",
    "    \n",
    "    table = pn.widgets.Tabulator(data[params], disabled=True)\n",
    "    selection = pn.widgets.Tabulator(disabled=True)\n",
    "    try:\n",
    "        table.selection = ls.selection_expr\n",
    "    except ValueError:\n",
    "        table.selection = []\n",
    "    \n",
    "    button_show_selection = pn.widgets.Button(name='Show selected rows only', button_type='primary', width_policy='auto')\n",
    "    button_download_selection = pn.widgets.Button(name='Download selections as CSV', button_type='primary', width_policy='auto')\n",
    "    button_reset = pn.widgets.Button(name='Reset', width_policy='auto')\n",
    "    \n",
    "    def show_selection(event):\n",
    "        selection.value = table.selected_dataframe.sort_index()\n",
    "    \n",
    "    def download_selection(event):\n",
    "        os.makedirs('data/selections', exist_ok=True)\n",
    "        selection_df_sorted = table.selected_dataframe.sort_index()\n",
    "        selection_df_sorted.to_csv('data/selections/selected_output.csv', index=False)\n",
    "\n",
    "    def reset(event):\n",
    "        table.selection = []\n",
    "        selection.value = table.selected_dataframe\n",
    "\n",
    "    button_show_selection.on_click(show_selection)\n",
    "    button_download_selection.on_click(download_selection)\n",
    "    button_reset.on_click(reset)\n",
    "    dashboard = pn.Row(table, pn.Column(pn.Row(button_show_selection, button_download_selection, button_reset), selection))\n",
    "    params = pn.Param(ls, parameters=['selection_mode'])\n",
    "    scatter_table = pn.Column(params, pn.Row(layout), dashboard)\n",
    "    return scatter_table"
   ]
  },
  {
   "cell_type": "markdown",
   "metadata": {},
   "source": [
    "Read in paramnames and construct a DataFrame of all the chains using the paramnames as column names"
   ]
  },
  {
   "cell_type": "code",
   "execution_count": null,
   "metadata": {
    "pycharm": {
     "name": "#%%\n"
    }
   },
   "outputs": [],
   "source": [
    "if __name__=='__main__':\n",
    "    # Read in data\n",
    "    param_names = load_params('data/test_IDM_n_0/2022-05-04_75000_.paramnames')\n",
    "    df = pd.DataFrame(columns=param_names)\n",
    "    for i in tqdm(range(1,56)):\n",
    "        temp = load_data('data/test_IDM_n_0/2022-05-04_75000__{}.txt'.format(i), column_names=param_names)\n",
    "        df = pd.concat([df,temp]).reset_index(drop=True)"
   ]
  },
  {
   "cell_type": "markdown",
   "metadata": {},
   "source": [
    "## Visualizing\n",
    "We only need to look at a few of the parameters, so for now they're hardcoded here. Now we just call `plot_scatter_table` to produce the dashboard. On the top row are the 2-D plots. Any area-based selections on one of the plots is reflected in the others. In the bottom section there's a table of all the values, which you can highlight and make multiple selections on. These selections can then be displayed as their own table and downloaded by clicking on the buttons labeled as such."
   ]
  },
  {
   "cell_type": "code",
   "execution_count": null,
   "metadata": {
    "pycharm": {
     "name": "#%%\n"
    }
   },
   "outputs": [],
   "source": [
    "params = ['omega_b', 'omega_dmeff', 'n_s', 'tau_reio', 'sigma_dmeff', 'H0', 'A_s', 'sigma8']\n",
    "# slicing because I'm REALLY impatient. A better downsampling method may be implemented\n",
    "df_slice = df[::1000]\n",
    "new_df = df_slice.reset_index(drop=True)\n",
    "viz = plot_scatter_table(new_df, params, plots=4)\n",
    "viz"
   ]
  },
  {
   "cell_type": "code",
   "execution_count": null,
   "metadata": {},
   "outputs": [],
   "source": [
    "ds = hv.Dataset(new_df, ['omega_b', 'omega_dmeff'])\n",
    "def plot_points(data):\n",
    "    return hv.Points(ds).opts(opts.Points(color='black', size=2))\n",
    "plot_points(ds)"
   ]
  },
  {
   "cell_type": "code",
   "execution_count": null,
   "metadata": {},
   "outputs": [],
   "source": [
    "scatter = hv.Scatter(ds).opts(opts.Scatter(tools=['tap'], size=3))"
   ]
  },
  {
   "cell_type": "code",
   "execution_count": null,
   "metadata": {},
   "outputs": [],
   "source": []
  }
 ],
 "metadata": {
  "kernelspec": {
   "display_name": "Python 3 (ipykernel)",
   "language": "python",
   "name": "python3"
  },
  "language_info": {
   "codemirror_mode": {
    "name": "ipython",
    "version": 3
   },
   "file_extension": ".py",
   "mimetype": "text/x-python",
   "name": "python",
   "nbconvert_exporter": "python",
   "pygments_lexer": "ipython3",
   "version": "3.9.13"
  }
 },
 "nbformat": 4,
 "nbformat_minor": 4
}
