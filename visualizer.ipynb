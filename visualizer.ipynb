{
 "cells": [
  {
   "cell_type": "code",
   "execution_count": null,
   "metadata": {
    "pycharm": {
     "name": "#%%\n"
    }
   },
   "outputs": [],
   "source": [
    "import holoviews as hv\n",
    "from holoviews import dim, opts, streams\n",
    "from holoviews.selection import link_selections\n",
    "import hvplot.pandas\n",
    "import pandas as pd\n",
    "from itertools import combinations\n",
    "import numpy as np\n",
    "from tqdm import tqdm\n",
    "import re\n",
    "import panel as pn\n",
    "import spatialpandas\n",
    "\n",
    "hv.extension('bokeh',width=100)\n",
    "hv.Store.set_current_backend('bokeh')"
   ]
  },
  {
   "cell_type": "code",
   "execution_count": null,
   "metadata": {
    "pycharm": {
     "name": "#%%\n"
    }
   },
   "outputs": [],
   "source": [
    "def load_params(filename):\n",
    "    params_list = []\n",
    "    with open(filename, 'r') as f:\n",
    "        for line in f:\n",
    "            line = line.strip()\n",
    "            params = re.split(' \\t ', line)\n",
    "            params_list.append(params)\n",
    "    return [item[0] for item in params_list]\n",
    "\n",
    "\n",
    "def load_data(filename, column_names):\n",
    "    data = np.loadtxt(filename)\n",
    "    df = pd.DataFrame(data[:,2:], columns=column_names)\n",
    "    return df\n",
    "\n",
    "\n",
    "def plot_scatter_table(data, params, plots):\n",
    "    # kwargs:\n",
    "    # data: a pandas DataFrame\n",
    "    # params: list of parameters that correspond to column names in the DataFrame\n",
    "    # plots: the number of plots to display\n",
    "    \n",
    "    # generate a list of all pairs of the parameters\n",
    "    pairs = [list(comb) for comb in combinations(params, 2)]\n",
    "    \n",
    "    # create linked selections\n",
    "    ls = link_selections.instance()\n",
    "    \n",
    "    # make height of the table match the total height of the plots\n",
    "    if (plots % 2) == 1:\n",
    "        table_height = (plots//2) + 1\n",
    "    else:\n",
    "        table_height = plots/2\n",
    "    table = hv.Table(data[params]).opts(width=800, height=int(300*table_height))\n",
    "    \n",
    "    layout = hv.Layout()\n",
    "    \n",
    "    for param_a, param_b in pairs[:plots]:\n",
    "        # vdims = [e for e in params if e not in (param_a, param_b)]\n",
    "        # ^^^ uncomment the above and add \", vdims\" to the argument of hv.Dataset if desired\n",
    "        ds = hv.Dataset(data, [param_a, param_b])\n",
    "        pts = hv.Points(ds).opts(\n",
    "            opts.Points(color='black', size=2))\n",
    "        bivar = hv.Bivariate(data[[param_a,param_b]].values, [param_a,param_b], []).opts(\n",
    "            opts.Bivariate(bandwidth=0.5,\n",
    "                           cut=0,cmap=\"blues\",\n",
    "                           levels=5,\n",
    "                           colorbar=False,\n",
    "                           show_legend=False,\n",
    "                           filled=True,\n",
    "                           toolbar='above',\n",
    "                           width=350,\n",
    "                           alpha=0.75))\n",
    "        layout += (ls(pts)*bivar).opts(width=300, height=300)\n",
    "    \n",
    "    layout = layout.cols(2)\n",
    "    params = pn.Param(ls, parameters=['selection_mode'])\n",
    "    scatter_table = pn.Column(params, pn.Row(layout, ls(table)))\n",
    "    return scatter_table"
   ]
  },
  {
   "cell_type": "code",
   "execution_count": null,
   "metadata": {
    "pycharm": {
     "name": "#%%\n"
    }
   },
   "outputs": [],
   "source": [
    "if __name__=='__main__':\n",
    "    # Read in data\n",
    "    param_names = load_params('data/test_IDM_n_0/2022-05-04_75000_.paramnames')\n",
    "    df = pd.DataFrame(columns=param_names)\n",
    "    for i in tqdm(range(1,56)):\n",
    "        temp = load_data('data/test_IDM_n_0/2022-05-04_75000__{}.txt'.format(i), column_names=param_names)\n",
    "        df = pd.concat([df,temp]).reset_index(drop=True)"
   ]
  },
  {
   "cell_type": "code",
   "execution_count": null,
   "metadata": {
    "pycharm": {
     "name": "#%%\n"
    }
   },
   "outputs": [],
   "source": [
    "params = ['omega_b', 'omega_dmeff', 'n_s', 'tau_reio', 'sigma_dmeff', 'H0', 'A_s', 'sigma8']\n",
    "# slicing because I'm REALLY impatient. A better downsampling method may be implemented\n",
    "df_slice = df[::1000]\n",
    "new_df = df_slice.reset_index(drop=True)\n",
    "# recommend plotting only up to 4 plots at once to avoid running into performance issues\n",
    "viz = plot_scatter_table(new_df, params, plots=4)\n",
    "viz"
   ]
  },
  {
   "cell_type": "code",
   "execution_count": null,
   "metadata": {
    "tags": []
   },
   "outputs": [],
   "source": []
  }
 ],
 "metadata": {
  "kernelspec": {
   "display_name": "Python 3 (ipykernel)",
   "language": "python",
   "name": "python3"
  },
  "language_info": {
   "codemirror_mode": {
    "name": "ipython",
    "version": 3
   },
   "file_extension": ".py",
   "mimetype": "text/x-python",
   "name": "python",
   "nbconvert_exporter": "python",
   "pygments_lexer": "ipython3",
   "version": "3.9.13"
  }
 },
 "nbformat": 4,
 "nbformat_minor": 4
}
