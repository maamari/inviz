{
 "cells": [
  {
   "cell_type": "markdown",
   "metadata": {
    "tags": []
   },
   "source": [
    "# Interactive Visualizer (InVis)\n",
    "This is the notebook where I'm currently developing the visualizer. I'm using Holoviews and Panel to construct the dashboard and implement the interactivity."
   ]
  },
  {
   "cell_type": "code",
   "execution_count": null,
   "metadata": {
    "pycharm": {
     "name": "#%%\n"
    }
   },
   "outputs": [],
   "source": [
    "import holoviews as hv\n",
    "from holoviews import dim, opts, streams\n",
    "from holoviews.selection import link_selections\n",
    "import hvplot.pandas\n",
    "import pandas as pd\n",
    "from itertools import combinations\n",
    "import numpy as np\n",
    "from tqdm import trange, tqdm\n",
    "import re\n",
    "import panel as pn\n",
    "import spatialpandas\n",
    "import os\n",
    "from bokeh.models import HoverTool\n",
    "from classy import Class\n",
    "import matplotlib.pyplot as plt\n",
    "import copy\n",
    "\n",
    "hv.extension('bokeh')\n",
    "hv.Store.set_current_backend('bokeh')\n",
    "pn.extension('tabulator')\n",
    "pn.extension(loading_spinner='dots', loading_color='#00aa41', sizing_mode=\"stretch_width\")\n",
    "pn.extension()"
   ]
  },
  {
   "cell_type": "markdown",
   "metadata": {
    "tags": []
   },
   "source": [
    "## Functions"
   ]
  },
  {
   "cell_type": "code",
   "execution_count": null,
   "metadata": {
    "pycharm": {
     "name": "#%%\n"
    },
    "tags": []
   },
   "outputs": [],
   "source": [
    "# read in the .paramnames file and put it into list format\n",
    "def load_params(filename):\n",
    "    params_list = []\n",
    "    with open(filename, 'r') as f:\n",
    "        for line in f:\n",
    "            line = line.strip()\n",
    "            params = re.split(' \\t ', line)\n",
    "            params_list.append(params)\n",
    "    return [item[0] for item in params_list]\n",
    "\n",
    "\n",
    "# create a DataFrame with the chain files as rows and use a list of parameters as the column names\n",
    "def load_data(filename, column_names):\n",
    "    data = np.loadtxt(filename)\n",
    "    df = pd.DataFrame(data[:,2:], columns=column_names)\n",
    "    return df\n",
    "\n",
    "\n",
    "# generate a scatter plot using the key dimensions from a holoviews.Dataset object, with the CLASS output displayed alongside it\n",
    "def viz(data, data_classy_input, data_classy_CDM):\n",
    "    # function for generating the scatter plot, given 2 dimensions as x and y axes, and an additional dimension to colormap\n",
    "    # to the points on the plot. Also has an option to show or hide the colormap\n",
    "    def plot_data(kdim1, kdim2, colordim, showcmap):\n",
    "        if showcmap == True:\n",
    "            cmapping = opts.Points(color=dim(colordim),\n",
    "                colorbar=True,\n",
    "                cmap='Viridis')\n",
    "        else:\n",
    "            cmapping = opts.Points(color='grey', colorbar=True)\n",
    "        hover = HoverTool(tooltips=None)\n",
    "        popts = opts.Points(\n",
    "            toolbar='above',\n",
    "            #line_color='black',\n",
    "            #alpha=0.75, selection_alpha=1, nonselection_alpha=0.1,\n",
    "            tools=[hover, 'box_select','lasso_select','tap'],\n",
    "            size=7)\n",
    "        points = hv.Points(data, kdims=[kdim1, kdim2]).opts(popts, cmapping)\n",
    "        return points\n",
    "    \n",
    "    \n",
    "    # setting Panel widgets for user interaction\n",
    "    variables = data.columns.values.tolist()\n",
    "    var1 = pn.widgets.Select(value=variables[0], name='Horizontal Axis', options=variables)\n",
    "    var2 = pn.widgets.Select(value=variables[1], name='Vertical Axis', options=variables)\n",
    "    cmap_var = pn.widgets.Select(value=variables[2], name='Colormapped Parameter', options=variables)\n",
    "    cmap_option = pn.widgets.Checkbox(value=True, name='Show Colormap', align='end')\n",
    "    \n",
    "    # bind the widget values to the plotting function so it gets called every time the user interacts with the widget\n",
    "    # call the bound plotting function inside a holoview DynamicMap object for interaction\n",
    "    interactive_points = pn.bind(plot_data, kdim1=var1, kdim2=var2, colordim=cmap_var, showcmap=cmap_option)\n",
    "    points_dmap = hv.DynamicMap(interactive_points, kdims=[]).opts(width=500, height=400, framewise=True)\n",
    "    \n",
    "    # define a stream to get a list of all the points the user has selected on the plot\n",
    "    selection = streams.Selection1D(source=points_dmap)\n",
    "    \n",
    "    # function to generate a table of all the selected points\n",
    "    def make_table(kdim1, kdim2, colordim):\n",
    "        table = hv.DynamicMap(lambda index: hv.Table(data.iloc[index], kdims=[kdim1, kdim2, colordim]), streams=[selection])\n",
    "        # formatting the table using plot hooks and a holoviews Options object\n",
    "        def hook(plot, element):\n",
    "            plot.handles['table'].autosize_mode = \"none\"\n",
    "            for column in plot.handles['table'].columns:\n",
    "                column.width = 100\n",
    "            \n",
    "        table_options = opts.Table(height=300, width=1000, hooks=[hook])\n",
    "        return table.opts(table_options).relabel('Selected Points')\n",
    "    \n",
    "    \n",
    "    # generate the table\n",
    "    selected_table = pn.bind(make_table, kdim1=var1, kdim2=var2, colordim=cmap_var)\n",
    "    \n",
    "    #table_stream = streams.Selection1D(source=selected_table)\n",
    "    \n",
    "    # function to run CLASS on data from the selection. \n",
    "    # first create an empty plot to handle the null selection case\n",
    "    empty_plot = hv.Curve(np.random.rand(0, 2))\n",
    "    def run_class_on_selection(index):\n",
    "        if not index:\n",
    "            empty_pk = empty_plot.relabel('P(k) Residuals - no selection').opts(\n",
    "                xlabel=r'$$k~[h/\\mathrm{Mpc}]$$', \n",
    "                ylabel=r'$$(P(k)-P_{CDM}(k))/P_{CDM}(k)*100~[\\%]$$')\n",
    "            empty_cl_tt = empty_plot.relabel('Lensed Cl_TT Residuals - no selection').opts(\n",
    "                xlabel=r\"$$\\ell$$\", \n",
    "                ylabel=r\"$$(C_{\\ell}^{TT} - C_{\\ell, CDM}^{TT})/C_{\\ell, CDM}^{TT}*100~[\\%]$$\")\n",
    "            empty_cl_ee = empty_plot.relabel('Lensed Cl_EE Residuals - no selection').opts(\n",
    "                xlabel=r\"$$\\ell$$\", \n",
    "                ylabel=r\"$$(C_{\\ell}^{EE} - C_{\\ell, CDM}^{EE})/C_{\\ell, CDM}^{EE}*100~[\\%]$$\")\n",
    "            empty_layout = empty_pk + empty_cl_tt + empty_cl_ee            \n",
    "            return empty_layout\n",
    "\n",
    "        # the Selection1D stream returns an index number. index into the approprate dataframe and turn it into a dictionary for CLASS to read\n",
    "        selection = data_classy_input.iloc[index]\n",
    "        selection_CDM = data_classy_CDM.iloc[index]\n",
    "        sel_dict_list = selection.to_dict('records')\n",
    "        CDM_dict_list = selection_CDM.to_dict('records')\n",
    "        \n",
    "        # remove nuisance parameters and add some project-specific ones. in the future these will be defined by the user\n",
    "#         for i in range(len(sel_dict_list)):\n",
    "#             entries_to_remove1 = ('z_reio', 'A_s', 'sigma8', '100theta_s', 'A_cib_217', 'xi_sz_cib', 'A_sz', 'ps_A_100_100', 'ps_A_143_143', 'ps_A_143_217', 'ps_A_217_217', 'ksz_norm', \n",
    "#                                  'gal545_A_100', 'gal545_A_143', 'gal545_A_143_217', 'gal545_A_217', 'galf_TE_A_100', 'galf_TE_A_100_143', 'galf_TE_A_100_217', 'galf_TE_A_143', 'galf_TE_A_143_217', \n",
    "#                                  'galf_TE_A_217', 'calib_100T', 'calib_217T', 'A_planck' )\n",
    "#             for j in entries_to_remove1:\n",
    "#                 sel_dict_list[i].pop(j, None)\n",
    "\n",
    "#             sel_dict_list[i]['omega_b'] = sel_dict_list[i]['omega_b']*1e-2\n",
    "#             sel_dict_list[i]['sigma_dmeff'] = sel_dict_list[i]['sigma_dmeff']*1e-25\n",
    "#             sel_dict_list[i]['h'] = (sel_dict_list[i].pop('H0'))*1e-2\n",
    "#             sel_dict_list[i].update({\"omega_cdm\":1e-15, \"npow_dmeff\": 0, \"Vrel_dmeff\": 0, \"dmeff_target\": \"baryons\", \"m_dmeff\": 1e-3})\n",
    "\n",
    "#         for k in range(len(sel_dict_list)):\n",
    "#             params_CDM = copy.deepcopy(sel_dict_list[k])\n",
    "#             entries_to_remove2 = ('sigma_dmeff', 'npow_dmeff', 'Vrel_dmeff', 'dmeff_target', 'm_dmeff')\n",
    "#             for l in entries_to_remove2:\n",
    "#                 params_CDM.pop(l, None)\n",
    "#             params_CDM['omega_cdm'] = params_CDM.pop('omega_dmeff')\n",
    "#             CDM_dict_list.append(params_CDM)\n",
    "\n",
    "        # run class on the user's selection\n",
    "        cosmo = Class()\n",
    "        cosmo.set(sel_dict_list[0])\n",
    "        cosmo.set({'output':'mPk, tCl, pCl, lCl','P_k_max_1/Mpc':3.0, 'lensing':'yes'})\n",
    "        cosmo.compute()\n",
    "\n",
    "        # set variables for matter power spectrum and lensed CMB angular power spectra\n",
    "        kk = np.logspace(-4,np.log10(3),1000)\n",
    "        Pk1 = []\n",
    "        h = cosmo.h()\n",
    "        for k in kk:\n",
    "            Pk1.append(cosmo.pk(k*h,0.)*h**3)\n",
    "\n",
    "        l = np.array(range(2,2501))\n",
    "        factor = l*(l+1)/(2*np.pi)\n",
    "        lensed_cl = cosmo.lensed_cl(2500)\n",
    "        \n",
    "        # run CLASS on the user's selection using the CDM model\n",
    "        cosmo_CDM = Class()\n",
    "        cosmo_CDM.set(CDM_dict_list[0])\n",
    "        cosmo_CDM.set({'output':'mPk, tCl, pCl, lCl','P_k_max_1/Mpc':3.0, 'lensing':'yes'})\n",
    "        cosmo_CDM.compute()\n",
    "\n",
    "        # set variables for CDM observables\n",
    "        Pk_CDM = []\n",
    "        h = cosmo_CDM.h()\n",
    "        for k in kk:\n",
    "            Pk_CDM.append(cosmo_CDM.pk(k*h,0.)*h**3)\n",
    "\n",
    "        lensed_cl_CDM = cosmo_CDM.lensed_cl(2500)\n",
    "\n",
    "        # compute residuals\n",
    "        pk_residuals = (np.array(Pk1) - np.array(Pk_CDM))/np.array(Pk_CDM)*100\n",
    "        cl_tt_residuals = (lensed_cl['tt'][2:] - lensed_cl_CDM['tt'][2:])/(lensed_cl_CDM['tt'][2:])*100\n",
    "        cl_ee_residuals = (lensed_cl['ee'][2:] - lensed_cl_CDM['ee'][2:])/(lensed_cl_CDM['ee'][2:])*100\n",
    "\n",
    "        plot_pk_residuals = hv.Curve((kk, pk_residuals)).relabel('P(k) Residuals').opts(\n",
    "            xlabel=r'$$k~[h/\\mathrm{Mpc}]$$', \n",
    "            ylabel=r'$$(P(k)-P_{CDM}(k))/P_{CDM}(k)*100~[\\%]$$')\n",
    "\n",
    "        plot_cl_tt_residuals = hv.Curve((l,cl_tt_residuals)).relabel('Cl_TT Residuals').opts(\n",
    "            xlabel=r\"$$\\ell$$\", \n",
    "            ylabel=r\"$$(C_{\\ell}^{TT}-C_{\\ell, CDM}^{TT})/C_{\\ell, CDM}^{TT}*100~[\\%]$$\")\n",
    "\n",
    "        plot_cl_ee_residuals = hv.Curve((l,cl_ee_residuals)).relabel('Cl_EE Residuals').opts(\n",
    "            xlabel=r\"$$\\ell$$\", \n",
    "            ylabel=r\"$$(C_{\\ell}^{EE}-C_{\\ell, CDM}^{EE})/C_{\\ell, CDM}^{EE}*100~[\\%]$$\")\n",
    "        \n",
    "        layout = (plot_pk_residuals + plot_cl_tt_residuals + plot_cl_ee_residuals)\n",
    "        return layout\n",
    "    \n",
    "    \n",
    "    classy_output = hv.DynamicMap(run_class_on_selection, streams=[selection]).opts(\n",
    "        opts.Curve(color='black', logx=True, width=500, height=400, padding=0.1, framewise=True),\n",
    "        opts.Layout(shared_axes=False))\n",
    "    \n",
    "    classy_output_pane = pn.panel(classy_output)\n",
    "    # pn.param.set_values(classy_output_pane, loading=True)\n",
    "    \n",
    "    # put it all together using Panel\n",
    "    points_display = pn.Column(pn.Row(var1, var2, cmap_var, cmap_option), pn.Row(points_dmap, selected_table))\n",
    "    dashboard = pn.Column(points_display, classy_output_pane)\n",
    "    return dashboard"
   ]
  },
  {
   "cell_type": "markdown",
   "metadata": {},
   "source": [
    "## Visualizing\n",
    "Now we just need to load in our data, convert it into a format that CLASS accepts, and call `viz` to produce the dashboard."
   ]
  },
  {
   "cell_type": "code",
   "execution_count": null,
   "metadata": {
    "pycharm": {
     "name": "#%%\n"
    },
    "tags": []
   },
   "outputs": [],
   "source": [
    "if __name__=='__main__':\n",
    "    # Read in data\n",
    "    param_names = load_params('/home/jswen/dev/inviz/data/test_IDM_n_0/2022-05-04_75000_.paramnames')\n",
    "    df = pd.DataFrame(columns=param_names)\n",
    "    for i in trange(1,57):\n",
    "        temp = load_data('/home/jswen/dev/inviz/data/test_IDM_n_0/2022-05-04_75000__{}.txt'.format(i), column_names=param_names)\n",
    "        df = pd.concat([df,temp]).reset_index(drop=True)"
   ]
  },
  {
   "cell_type": "code",
   "execution_count": null,
   "metadata": {},
   "outputs": [],
   "source": [
    "# prepare data for CLASS computation\n",
    "# remove nuisance parameters\n",
    "classy_input = df.drop(columns=['z_reio', 'A_s', 'sigma8', '100theta_s', 'A_cib_217', 'xi_sz_cib', 'A_sz', 'ps_A_100_100', 'ps_A_143_143', 'ps_A_143_217', 'ps_A_217_217', 'ksz_norm', \n",
    "                 'gal545_A_100', 'gal545_A_143', 'gal545_A_143_217', 'gal545_A_217', 'galf_TE_A_100', 'galf_TE_A_100_143', 'galf_TE_A_100_217', 'galf_TE_A_143', 'galf_TE_A_143_217', \n",
    "                 'galf_TE_A_217', 'calib_100T', 'calib_217T', 'A_planck'])\n",
    "classy_input['omega_b'] = df['omega_b'] * 1e-2\n",
    "classy_input['sigma_dmeff'] = df['sigma_dmeff'] * 1e-25\n",
    "classy_input = classy_input.rename(columns={'H0':'h'})\n",
    "classy_input['h'] = classy_input['h'] * 1e-2\n",
    "classy_input['omega_cdm'] = 1e-15\n",
    "classy_input['npow_dmeff'] = 0.0\n",
    "classy_input['Vrel_dmeff'] = 0.0\n",
    "classy_input['dmeff_target'] = 'baryons'\n",
    "classy_input['m_dmeff'] = 1e-3\n",
    "\n",
    "# format for CDM version\n",
    "classy_CDM = classy_input.drop(columns=['sigma_dmeff', 'omega_cdm', 'npow_dmeff', 'Vrel_dmeff', 'dmeff_target', 'm_dmeff'])\n",
    "classy_CDM = classy_CDM.rename(columns={'omega_dmeff':'omega_cdm'})\n",
    "\n",
    "# slice for fast computation\n",
    "classy_input_slice = classy_input[::500].reset_index(drop=True)\n",
    "classy_CDM_slice = classy_CDM[::500].reset_index(drop=True)\n",
    "df_slice = df[::500].reset_index(drop=True)"
   ]
  },
  {
   "cell_type": "markdown",
   "metadata": {},
   "source": [
    "### The Viz Function\n",
    "\n",
    "The viz function has three arguments:\n",
    "- __data__: the data you want shown as a scatter plot\n",
    "- __data_classy_input__: the data that you've prepared to feed into CLASS\n",
    "- __data_classy_CDM__: the CDM version of that data\n",
    "\n",
    "Be aware that if you pass data with categorical values (i.e. strings) in the first argument, the visualizer will break. It's fine to do so for the CLASS arguments though."
   ]
  },
  {
   "cell_type": "code",
   "execution_count": null,
   "metadata": {
    "pycharm": {
     "name": "#%%\n"
    }
   },
   "outputs": [],
   "source": [
    "viz(df_slice, classy_input_slice, classy_CDM_slice)"
   ]
  },
  {
   "cell_type": "markdown",
   "metadata": {
    "tags": []
   },
   "source": [
    "## WIP\n",
    "The below cells are being used to further develop the visualizer."
   ]
  },
  {
   "cell_type": "code",
   "execution_count": null,
   "metadata": {},
   "outputs": [],
   "source": [
    "test_params = {'omega_b': 2.268118e-2, \n",
    "               'omega_dmeff': 0.1221163, \n",
    "               'ln10^{10}A_s': 3.048006, \n",
    "               'n_s': 0.9670508, \n",
    "               'tau_reio': 0.05659527, \n",
    "               'sigma_dmeff': 1.193e-25, \n",
    "               'Omega_Lambda': 0.6772064, \n",
    "               'YHe': 0.2479716, \n",
    "               'h': 67.13298e-2,  \n",
    "               'omega_cdm': 1e-15, \n",
    "               'npow_dmeff': 0, \n",
    "               'Vrel_dmeff': 0, \n",
    "               'dmeff_target': 'baryons', \n",
    "               'm_dmeff': 0.001}\n",
    "test_params_CDM = {'omega_b': 2.268118e-2, \n",
    "                   'omega_cdm': 0.1221163, \n",
    "                   'ln10^{10}A_s': 3.048006, \n",
    "                   'n_s': 0.9670508, \n",
    "                   'tau_reio': 0.05659527, \n",
    "                   'Omega_Lambda': 0.6772064, \n",
    "                   'YHe': 0.2479716, \n",
    "                   'h': 67.13298e-2}"
   ]
  },
  {
   "cell_type": "code",
   "execution_count": null,
   "metadata": {
    "tags": []
   },
   "outputs": [],
   "source": [
    "cosmo = Class()\n",
    "cosmo.set(test_params)\n",
    "cosmo.set({'output':'mPk, tCl, pCl, lCl','P_k_max_1/Mpc':3.0, 'lensing':'yes'})\n",
    "cosmo.compute()\n",
    "\n",
    "kk = np.logspace(-4,np.log10(3),1000)\n",
    "Pk1 = []\n",
    "h = cosmo.h()\n",
    "for k in kk:\n",
    "    Pk1.append(cosmo.pk(k*h,0.)*h**3)\n",
    "\n",
    "l = np.array(range(2,2501))\n",
    "factor = l*(l+1)/(2*np.pi)\n",
    "lensed_cl = cosmo.lensed_cl(2500)"
   ]
  },
  {
   "cell_type": "code",
   "execution_count": null,
   "metadata": {},
   "outputs": [],
   "source": [
    "cosmo_CDM = Class()\n",
    "cosmo_CDM.set(test_params_CDM)\n",
    "cosmo_CDM.set({'output':'mPk, tCl, pCl, lCl','P_k_max_1/Mpc':3.0, 'lensing':'yes'})\n",
    "cosmo_CDM.compute()\n",
    "\n",
    "Pk_CDM = []\n",
    "h = cosmo_CDM.h()\n",
    "for k in kk:\n",
    "    Pk_CDM.append(cosmo_CDM.pk(k*h,0.)*h**3)\n",
    "\n",
    "lensed_cl_CDM = cosmo_CDM.lensed_cl(2500)"
   ]
  },
  {
   "cell_type": "code",
   "execution_count": null,
   "metadata": {},
   "outputs": [],
   "source": [
    "fig_PK = plt.loglog(kk, Pk1)\n",
    "fig_PKCDM = plt.loglog(kk, Pk_CDM)"
   ]
  },
  {
   "cell_type": "code",
   "execution_count": null,
   "metadata": {},
   "outputs": [],
   "source": [
    "fig_TT = plt.loglog(l, factor*lensed_cl['tt'][2:])\n",
    "fig_TTCDM = plt.loglog(l, factor*lensed_cl_CDM['tt'][2:])"
   ]
  },
  {
   "cell_type": "code",
   "execution_count": null,
   "metadata": {},
   "outputs": [],
   "source": [
    "# compute residuals and plot them\n",
    "pk_residuals = (np.array(Pk1) - np.array(Pk_CDM))/np.array(Pk_CDM)*100\n",
    "cl_tt_residuals = (lensed_cl['tt'][2:] - lensed_cl_CDM['tt'][2:])/(lensed_cl_CDM['tt'][2:])*100\n",
    "cl_ee_residuals = (lensed_cl['ee'][2:] - lensed_cl_CDM['ee'][2:])/(lensed_cl_CDM['ee'][2:])*100"
   ]
  },
  {
   "cell_type": "code",
   "execution_count": null,
   "metadata": {
    "tags": []
   },
   "outputs": [],
   "source": [
    "plot_pk_residuals = hv.Curve((kk, pk_residuals)).relabel('P(k) Residuals').opts(\n",
    "    xlabel=r'$$k~[h/\\mathrm{Mpc}]$$', \n",
    "    ylabel=r'$$(P(k)-P_{CDM}(k))/P_{CDM}(k)*100~[\\%]$$'\n",
    ")\n",
    "\n",
    "plot_cl_tt_residuals = hv.Curve((l, cl_tt_residuals)).relabel('Cl_TT Residuals').opts(\n",
    "    xlabel=r\"$$\\ell$$\", \n",
    "    ylabel=r\"$$(C_{\\ell}^{TT} - C_{\\ell, CDM}^{TT})/C_{\\ell, CDM}^{TT}*100~[\\%]$$\"\n",
    ")\n",
    "\n",
    "plot_cl_ee_residuals = hv.Curve((l, cl_ee_residuals)).relabel('Cl_EE Residuals').opts(\n",
    "    xlabel=r\"$$\\ell$$\", \n",
    "    ylabel=r\"$$(C_{\\ell}^{EE} - C_{\\ell, CDM}^{EE})/C_{\\ell, CDM}^{EE}*100~[\\%]$$\"\n",
    ")\n",
    "\n",
    "\n",
    "layout = (plot_pk_residuals + plot_cl_tt_residuals + plot_cl_ee_residuals)\n",
    "layout = layout.opts(opts.Curve(logx=True, width=500, height=400, padding=0.1, fontscale=1.1), opts.Layout(shared_axes=False))\n",
    "layout"
   ]
  },
  {
   "cell_type": "code",
   "execution_count": null,
   "metadata": {
    "tags": []
   },
   "outputs": [],
   "source": [
    "def plot_scatter_table(data, params, plots):\n",
    "    # kwargs:\n",
    "    # data: a pandas DataFrame\n",
    "    # params: list of parameters that correspond to column names in the DataFrame\n",
    "    # plots: the number of plots to display\n",
    "    \n",
    "    # generate a list of all pairs of the parameters\n",
    "    pairs = [list(comb) for comb in combinations(params, 2)]\n",
    "    \n",
    "    # create linked selections\n",
    "    ls = link_selections.instance()\n",
    "    \n",
    "    layout = hv.Layout()\n",
    "    \n",
    "    for param_a, param_b in pairs[:plots]:\n",
    "        # vdims = [e for e in params if e not in (param_a, param_b)]\n",
    "        # ^^^ uncomment the above and add \", vdims\" to the argument of hv.Dataset if desired\n",
    "        ds = hv.Dataset(data, [param_a, param_b])\n",
    "        pts = hv.Points(ds).opts(\n",
    "            opts.Points(color='black', size=2))\n",
    "        bivar = hv.Bivariate(data[[param_a,param_b]].values, [param_a,param_b], []).opts(\n",
    "            opts.Bivariate(bandwidth=0.5,\n",
    "                           cut=0,cmap=\"blues\",\n",
    "                           levels=5,\n",
    "                           colorbar=False,\n",
    "                           show_legend=False,\n",
    "                           filled=True,\n",
    "                           toolbar='above',\n",
    "                           width=350,\n",
    "                           alpha=0.75))\n",
    "        layout += (ls(pts)*bivar).opts(width=300, height=300)\n",
    "    \n",
    "    layout = layout.cols(4)\n",
    "    \n",
    "    table = pn.widgets.Tabulator(data[params], disabled=True)\n",
    "    selection = pn.widgets.Tabulator(disabled=True)\n",
    "    try:\n",
    "        table.selection = ls.selection_expr\n",
    "    except ValueError:\n",
    "        table.selection = []\n",
    "    \n",
    "    button_show_selection = pn.widgets.Button(name='Show selected rows only', button_type='primary', width_policy='auto')\n",
    "    button_download_selection = pn.widgets.Button(name='Download selections as CSV', button_type='primary', width_policy='auto')\n",
    "    button_reset = pn.widgets.Button(name='Reset', width_policy='auto')\n",
    "    \n",
    "    def show_selection(event):\n",
    "        selection.value = table.selected_dataframe.sort_index()\n",
    "    \n",
    "    def download_selection(event):\n",
    "        os.makedirs('data/selections', exist_ok=True)\n",
    "        selection_df_sorted = table.selected_dataframe.sort_index()\n",
    "        selection_df_sorted.to_csv('data/selections/selected_output.csv', index=False)\n",
    "\n",
    "    def reset(event):\n",
    "        table.selection = []\n",
    "        selection.value = table.selected_dataframe\n",
    "\n",
    "    button_show_selection.on_click(show_selection)\n",
    "    button_download_selection.on_click(download_selection)\n",
    "    button_reset.on_click(reset)\n",
    "    dashboard = pn.Row(table, pn.Column(pn.Row(button_show_selection, button_download_selection, button_reset), selection))\n",
    "    params = pn.Param(ls, parameters=['selection_mode'])\n",
    "    scatter_table = pn.Column(params, pn.Row(layout), dashboard)\n",
    "    return scatter_table"
   ]
  },
  {
   "cell_type": "code",
   "execution_count": null,
   "metadata": {
    "tags": []
   },
   "outputs": [],
   "source": [
    "params = ['omega_b', 'omega_dmeff', 'n_s', 'tau_reio', 'sigma_dmeff', 'H0', 'A_s', 'sigma8']\n",
    "viz = plot_scatter_table(new_df, params, plots=4)\n",
    "viz"
   ]
  },
  {
   "cell_type": "code",
   "execution_count": null,
   "metadata": {
    "tags": []
   },
   "outputs": [],
   "source": [
    "menu_items = list(ds.data)\n",
    "menu_button = pn.widgets.MenuButton(name='Parameter', items=menu_items, button_type='primary')\n",
    "text = pn.widgets.TextInput(value='Ready')\n",
    "\n",
    "def b(event):\n",
    "    text.value = f'Clicked menu item: \"{event.new}\"'\n",
    "    \n",
    "menu_button.on_click(b)\n",
    "\n",
    "pn.Row(menu_button, text, height=300)"
   ]
  },
  {
   "cell_type": "code",
   "execution_count": null,
   "metadata": {
    "tags": []
   },
   "outputs": [],
   "source": [
    "ds = hv.Dataset(new_df, ['omega_b', 'sigma_dmeff'])\n",
    "vdims = ['omega_b', 'omega_dmeff', 'ln10^{10}A_s', 'n_s', 'tau_reio', 'sigma_dmeff', 'Omega_Lambda', 'H0']\n",
    "layout = hv.Layout()\n",
    "for vdim in vdims:\n",
    "    if vdim != ds.kdims[0].name and vdim != ds.kdims[1].name:\n",
    "        pts = hv.Points(ds).opts(color=dim(vdim),\n",
    "            colorbar=True,\n",
    "            cmap='Magma',\n",
    "            alpha=0.5, selection_alpha=1, nonselection_alpha=0.1,\n",
    "            tools=['box_select','lasso_select','tap'],\n",
    "            size=5,\n",
    "            width=350,\n",
    "            height=250).relabel(vdim)\n",
    "        layout += pts\n",
    "\n",
    "layout.opts(shared_axes=False).cols(3)"
   ]
  },
  {
   "cell_type": "code",
   "execution_count": null,
   "metadata": {},
   "outputs": [],
   "source": [
    "def plot_data(kdim1, kdim2, colordim, showcmap):  \n",
    "    popts = opts.Points(\n",
    "        toolbar='above',\n",
    "        line_color='black',\n",
    "        #alpha=0.5, selection_alpha=1, nonselection_alpha=0.1,\n",
    "        tools=['box_select','lasso_select','tap'],\n",
    "        size=7)\n",
    "    \n",
    "    if classy_input_slice[colordim].dtype == object:\n",
    "        if showcmap == False:\n",
    "            cmapping = opts.Points(color='grey')\n",
    "        cmapping = opts.Points(color=dim(colordim), cmap='Category20')\n",
    "        categorical_points = hv.Points(classy_input_slice, kdims=[kdim1, kdim2]).opts(popts, cmapping)\n",
    "        return categorical_points\n",
    "    else:\n",
    "        if showcmap == False:\n",
    "            cmapping = opts.Points(color='grey')\n",
    "        cmapping = opts.Points(color=dim(colordim), cmap='Viridis', colorbar=True)\n",
    "        numerical_points = hv.Points(classy_input_slice, kdims=[kdim1, kdim2]).opts(popts, cmapping)\n",
    "        return numerical_points\n",
    "        \n",
    "\n",
    "def plot_dist(kdim1):\n",
    "    dist = hv.Distribution(new_df, kdim1).opts(\n",
    "        alpha=1,\n",
    "        color='blue')\n",
    "    return dist\n",
    "\n",
    "def plot_bivar(kdim1, kdim2):\n",
    "    bivar = hv.Bivariate(new_df, kdims=[kdim1, kdim2]).opts(\n",
    "        cmap='blues',\n",
    "        bandwidth=1,\n",
    "        cut=0,\n",
    "        levels=5,\n",
    "        filled=True)\n",
    "    return bivar\n",
    "\n",
    "def choose_dist(kdim1, kdim2):\n",
    "    if kdim1 == kdim2:\n",
    "        return hv.DynamicMap(plot_dist, kdim1=kdim1).opts(width=500, height=400, framewise=True)\n",
    "    else:\n",
    "        return hv.DynamicMap(plot_bivar, kdim1=kdim1, kdim2=kdim2).opts(width=500, height=400, framewise=True)"
   ]
  },
  {
   "cell_type": "code",
   "execution_count": null,
   "metadata": {},
   "outputs": [],
   "source": [
    "variables = classy_input_slice.columns.values.tolist()\n",
    "var1 = pn.widgets.Select(value=variables[0], name='Horizontal Axis', options=variables)\n",
    "var2 = pn.widgets.Select(value=variables[1], name='Vertical Axis', options=variables)\n",
    "cmap_var = pn.widgets.Select(value='omega_b', name='Colormapped Parameter', options=variables)\n",
    "cmap_option = pn.widgets.Checkbox(value=False, name='Show Colormap', align='end')"
   ]
  },
  {
   "cell_type": "code",
   "execution_count": null,
   "metadata": {},
   "outputs": [],
   "source": [
    "interactive_points = pn.bind(plot_data, kdim1=var1, kdim2=var2, colordim=cmap_var, showcmap=cmap_option)\n",
    "interactive_dist = pn.bind(choose_dist, kdim1=var1, kdim2=var2)\n",
    "dmap_points = hv.DynamicMap(interactive_points).opts(width=500, height=400, framewise=True)\n",
    "app = pn.Column(pn.Row(var1, var2, cmap_var, cmap_option, width = 700), dmap_points)\n",
    "app"
   ]
  },
  {
   "cell_type": "code",
   "execution_count": null,
   "metadata": {},
   "outputs": [],
   "source": [
    "choose_dist('omega_b', 'omega_dmeff')"
   ]
  },
  {
   "cell_type": "code",
   "execution_count": null,
   "metadata": {},
   "outputs": [],
   "source": [
    "table = hv.Table(new_df, kdims=['omega_b', 'omega_dmeff', 'sigma_dmeff'])\n",
    "table_sel = streams.Selection1D(source=table)"
   ]
  },
  {
   "cell_type": "code",
   "execution_count": null,
   "metadata": {},
   "outputs": [],
   "source": [
    "table_sel.contents"
   ]
  },
  {
   "cell_type": "code",
   "execution_count": null,
   "metadata": {},
   "outputs": [],
   "source": []
  }
 ],
 "metadata": {
  "kernelspec": {
   "display_name": "Python 3 (ipykernel)",
   "language": "python",
   "name": "python3"
  },
  "language_info": {
   "codemirror_mode": {
    "name": "ipython",
    "version": 3
   },
   "file_extension": ".py",
   "mimetype": "text/x-python",
   "name": "python",
   "nbconvert_exporter": "python",
   "pygments_lexer": "ipython3",
   "version": "3.10.9"
  }
 },
 "nbformat": 4,
 "nbformat_minor": 4
}
